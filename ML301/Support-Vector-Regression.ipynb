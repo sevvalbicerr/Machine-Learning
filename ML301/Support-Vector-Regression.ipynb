{
 "cells": [
  {
   "cell_type": "code",
   "execution_count": 1,
   "id": "cb87b38f",
   "metadata": {},
   "outputs": [],
   "source": [
    "import numpy as np\n",
    "import pandas as pd\n",
    "from sklearn.model_selection import train_test_split,GridSearchCV\n",
    "from sklearn.metrics import mean_squared_error,r2_score"
   ]
  },
  {
   "cell_type": "code",
   "execution_count": 3,
   "id": "1e25214f",
   "metadata": {},
   "outputs": [],
   "source": [
    "df=pd.read_csv(\"Hitters.csv\")\n",
    "df=df.dropna()\n",
    "\n",
    "dms=pd.get_dummies(df[['League', 'Division','NewLeague']])\n",
    "\n",
    "y=df['Salary']\n",
    "X_= df.drop(['Salary','League', 'Division','NewLeague'],axis=1).astype('float64')\n",
    "X= pd.concat([X_, dms[['League_N', 'Division_W','NewLeague_N']]],axis=1)\n",
    "X_train,X_test,y_train,y_test=train_test_split(X,y,test_size=0.25,random_state=42)"
   ]
  },
  {
   "cell_type": "markdown",
   "id": "f08d0eb0",
   "metadata": {},
   "source": [
    "# Model/ Tahmin"
   ]
  },
  {
   "cell_type": "code",
   "execution_count": 4,
   "id": "59e07a34",
   "metadata": {},
   "outputs": [],
   "source": [
    "from sklearn.svm import SVR"
   ]
  },
  {
   "cell_type": "code",
   "execution_count": 19,
   "id": "1879e1c0",
   "metadata": {},
   "outputs": [],
   "source": [
    "svr_model= SVR(kernel=\"linear\")"
   ]
  },
  {
   "cell_type": "code",
   "execution_count": 20,
   "id": "b0734a1b",
   "metadata": {},
   "outputs": [
    {
     "data": {
      "text/plain": [
       "SVR(kernel='linear')"
      ]
     },
     "execution_count": 20,
     "metadata": {},
     "output_type": "execute_result"
    }
   ],
   "source": [
    "svr_model.fit(X_train,y_train)"
   ]
  },
  {
   "cell_type": "code",
   "execution_count": 21,
   "id": "56264394",
   "metadata": {},
   "outputs": [
    {
     "data": {
      "text/plain": [
       "array([ 219.32622627,  702.43039317,  623.20559641,  153.77538484,\n",
       "        463.15191157, 1002.96905384,   55.20051607,  218.47517427,\n",
       "        466.00937227,  802.1635624 , 1352.57116101,  732.63375149,\n",
       "        894.1998132 ,  631.61791552,  577.0472608 ,  484.91978275,\n",
       "       1032.34544981,  116.97512913,  149.91644355,  324.65371133,\n",
       "        649.27695167,  965.69625709,  446.69482594,  348.72929467,\n",
       "         55.25455683,  849.64918325,  502.47021073,  240.89994989,\n",
       "        219.09282257,  301.22750255,   38.53524051,  658.04153098,\n",
       "        910.8835871 ,  123.94979587,  439.79028139,  234.22077502,\n",
       "        299.90042901,  650.77556799,  297.91983748,  155.00257753,\n",
       "        121.32672765,  307.13419364,  183.22159204,  251.32555296,\n",
       "        194.49102498,  958.89630074,  262.03427945,  519.70478054,\n",
       "        295.85702596,  429.26122866,  356.23270074,  458.53063755,\n",
       "        294.78664772,  348.48865569,  650.65632508,  198.82451778,\n",
       "        490.6241315 ,  632.55863498,  244.37995407, 1434.97416655,\n",
       "        421.0447524 ,  221.52017395,  259.67427031,  340.25752778,\n",
       "        242.12089993,  742.18263508,   95.78132539,  514.00724826,\n",
       "        159.17666726,  186.60877191,  204.54654489,  936.21616576,\n",
       "        787.55988125,  627.21308334, 1345.53995253,  551.49960379,\n",
       "        417.99089688,  350.59312532,  383.91881276,  923.71905983,\n",
       "        558.69018763,  472.01787786,  751.72399951,  597.23954649,\n",
       "        175.86066796,  797.32567022,  757.50579626,  992.74114142,\n",
       "       1109.58244018,  631.89998054,  245.92141161,  221.03134354,\n",
       "       1046.46028663,   77.52857585,  384.26364432, 1140.8907452 ,\n",
       "        956.38220424,  465.91340361,  800.7298686 ,  818.08271862,\n",
       "        440.55813069,  208.04432832,  631.79424275, 1592.00139074,\n",
       "        241.78595141, 1120.81355051,  802.68310894,  208.77193968,\n",
       "        144.56169261,  699.08895243,  773.24132056,  481.82943588,\n",
       "        423.48710612,  582.37277992,  449.26284779,  405.59547845,\n",
       "        773.46179211,  851.49255995,  306.29648626,  553.9954936 ,\n",
       "        665.2694178 ,  716.18144421, 1048.79045711,  206.67002026,\n",
       "         19.37111354,  411.77192726, 1432.49161313,  161.10657807,\n",
       "        169.42535835,  591.29366603,  839.05423675, 1119.99933157,\n",
       "       1174.86814127,  609.93652181,  786.61598096,  301.30929276,\n",
       "        705.91810806,  308.68403299,  289.45667448,  829.55251134,\n",
       "        122.06018916,  181.50905973,  304.99402561,  505.1228931 ,\n",
       "        127.52760291,  369.44061236,  319.47080682,  424.89998689,\n",
       "        599.29072202, 1362.99876664,  224.63285024,  117.34371491,\n",
       "        198.18171527,  152.00847598,  727.57389595,  190.10019099,\n",
       "       1074.99309025,   55.07154814,  852.58441397,  653.94074618,\n",
       "        312.20521293,  429.33032804, 1223.84705708,  143.66369277,\n",
       "        532.74236248,  709.02818441,  354.00198721,  224.01845562,\n",
       "        691.3258794 ,  478.64190904,  777.7102992 ,  198.44025574,\n",
       "        614.60830248, 1067.43967853,  187.64657909,  211.58745018,\n",
       "        327.50388216,  627.49758268,  654.96364752,  928.6887883 ,\n",
       "        245.26099646,  547.19304384,  175.10059247,  492.26252503,\n",
       "        593.67568843,  897.50123457,  614.07898725,  390.80949453,\n",
       "        170.38290849,  255.37968274,  259.64149055,  903.99339877,\n",
       "       1319.83002875, 1548.37436865,  303.52172137,  737.87524311,\n",
       "        264.95277783])"
      ]
     },
     "execution_count": 21,
     "metadata": {},
     "output_type": "execute_result"
    }
   ],
   "source": [
    "svr_model.predict(X_train)"
   ]
  },
  {
   "cell_type": "code",
   "execution_count": 22,
   "id": "5e24ff03",
   "metadata": {},
   "outputs": [
    {
     "data": {
      "text/plain": [
       "array([ 679.14754919,  633.72883529,  925.68639938,  270.28464317,\n",
       "        530.26659421,  272.22606175,  549.4423224 ,  446.55264396,\n",
       "        892.8309562 ,  677.96856008,  677.16149322,  868.18485002,\n",
       "        451.00610659,  382.35543803,  308.26205728,  609.16129527,\n",
       "        744.69688828,  152.60132455, 1012.03931325,  376.77473896,\n",
       "        481.42042557,  771.67234151,  521.05069491,  588.93024829,\n",
       "        615.06797076,  132.39925922,  958.8936008 ,  355.23613415,\n",
       "        579.89689139,  124.67778281,  153.86174938,   14.75058547,\n",
       "        358.06037823,  282.58793005,  281.45885316,  533.38953946,\n",
       "       1206.24281291,  170.07373765,   40.51550058,  258.34330019,\n",
       "         66.15838195,  216.51484567,  692.01541809,  449.24701051,\n",
       "        856.67888329,  753.2161061 ,  442.51268754,  288.71673557,\n",
       "        309.2636209 ,  556.53116993,  867.46283046,  353.4386512 ,\n",
       "        656.14839681,  362.44007402,  201.08404007,  525.70822384,\n",
       "        584.05155335,  910.92606662,  178.24959893, 1247.87338016,\n",
       "       1618.56276707,  486.97160172,  996.74214868,  448.16770456,\n",
       "        526.78012619,   87.60103243])"
      ]
     },
     "execution_count": 22,
     "metadata": {},
     "output_type": "execute_result"
    }
   ],
   "source": [
    "svr_model.predict(X_test)"
   ]
  },
  {
   "cell_type": "code",
   "execution_count": 23,
   "id": "0e143298",
   "metadata": {},
   "outputs": [
    {
     "data": {
      "text/plain": [
       "array([-80.15196063])"
      ]
     },
     "execution_count": 23,
     "metadata": {},
     "output_type": "execute_result"
    }
   ],
   "source": [
    "svr_model.intercept_"
   ]
  },
  {
   "cell_type": "code",
   "execution_count": 24,
   "id": "e65bdebc",
   "metadata": {},
   "outputs": [
    {
     "data": {
      "text/plain": [
       "array([[ -1.2183904 ,   6.09602978,  -3.67574533,   0.14217072,\n",
       "          0.51435925,   1.28388992,  12.55922527,  -0.08693754,\n",
       "          0.46597185,   2.98259931,   0.52944513,  -0.79820793,\n",
       "         -0.16015531,   0.30872795,   0.28842348,  -1.79560066,\n",
       "          6.41868986, -10.74313785,   1.33374319]])"
      ]
     },
     "execution_count": 24,
     "metadata": {},
     "output_type": "execute_result"
    }
   ],
   "source": [
    "svr_model.coef_"
   ]
  },
  {
   "cell_type": "code",
   "execution_count": 25,
   "id": "1f8ac124",
   "metadata": {},
   "outputs": [],
   "source": [
    "# Test \n",
    "y_pred=svr_model.predict(X_test)"
   ]
  },
  {
   "cell_type": "code",
   "execution_count": 26,
   "id": "66e80b48",
   "metadata": {},
   "outputs": [
    {
     "data": {
      "text/plain": [
       "370.0408415795005"
      ]
     },
     "execution_count": 26,
     "metadata": {},
     "output_type": "execute_result"
    }
   ],
   "source": [
    "np.sqrt(mean_squared_error(y_test,y_pred))"
   ]
  },
  {
   "cell_type": "markdown",
   "id": "6f35cf92",
   "metadata": {},
   "source": [
    "# Model Tuning"
   ]
  },
  {
   "cell_type": "code",
   "execution_count": 28,
   "id": "b5d52442",
   "metadata": {},
   "outputs": [],
   "source": [
    "svr_param={\"C\":[0.1,0.3,0.5,1,3]}"
   ]
  },
  {
   "cell_type": "code",
   "execution_count": 29,
   "id": "e0adefc5",
   "metadata": {},
   "outputs": [],
   "source": [
    "svr_cv_model=GridSearchCV(svr_model,svr_param,cv=5).fit(X_train,y_train)\n",
    "# verbose=2 işlem yapılırken işlemleri görüntüleyebiliyoruz. Kaç kere fit ediliyor kaç dakika sürüyor gibi gibi\n",
    "# n_jobs=-1 işlemciyi en yüksek performansta çalıştıracak parametredir. "
   ]
  },
  {
   "cell_type": "code",
   "execution_count": 30,
   "id": "1412e6ba",
   "metadata": {},
   "outputs": [
    {
     "data": {
      "text/plain": [
       "{'C': 0.3}"
      ]
     },
     "execution_count": 30,
     "metadata": {},
     "output_type": "execute_result"
    }
   ],
   "source": [
    "svr_cv_model.best_params_"
   ]
  },
  {
   "cell_type": "code",
   "execution_count": 31,
   "id": "acc9144e",
   "metadata": {},
   "outputs": [],
   "source": [
    "svr_tuned=SVR(kernel=\"linear\",C=0.3).fit(X_train,y_train)"
   ]
  },
  {
   "cell_type": "code",
   "execution_count": 32,
   "id": "aa1a695f",
   "metadata": {},
   "outputs": [],
   "source": [
    "y_pred=svr_tuned.predict(X_test)"
   ]
  },
  {
   "cell_type": "code",
   "execution_count": 34,
   "id": "9f4eba78",
   "metadata": {},
   "outputs": [
    {
     "data": {
      "text/plain": [
       "367.5589588902782"
      ]
     },
     "execution_count": 34,
     "metadata": {},
     "output_type": "execute_result"
    }
   ],
   "source": [
    "np.sqrt(mean_squared_error(y_test,y_pred))"
   ]
  },
  {
   "cell_type": "code",
   "execution_count": null,
   "id": "131ae534",
   "metadata": {},
   "outputs": [],
   "source": []
  }
 ],
 "metadata": {
  "kernelspec": {
   "display_name": "Python 3.9.12 ('base')",
   "language": "python",
   "name": "python3"
  },
  "language_info": {
   "codemirror_mode": {
    "name": "ipython",
    "version": 3
   },
   "file_extension": ".py",
   "mimetype": "text/x-python",
   "name": "python",
   "nbconvert_exporter": "python",
   "pygments_lexer": "ipython3",
   "version": "3.9.12"
  },
  "vscode": {
   "interpreter": {
    "hash": "ab13322db8ab0b4d60fe8835711aa7fa9b19de786ef0dcbcf97a89d8b1a09b1f"
   }
  }
 },
 "nbformat": 4,
 "nbformat_minor": 5
}
