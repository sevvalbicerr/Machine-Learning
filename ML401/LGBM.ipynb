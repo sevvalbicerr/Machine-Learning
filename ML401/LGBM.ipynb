{
 "cells": [
  {
   "cell_type": "code",
   "execution_count": 1,
   "metadata": {},
   "outputs": [
    {
     "data": {
      "text/html": [
       "<div>\n",
       "<style scoped>\n",
       "    .dataframe tbody tr th:only-of-type {\n",
       "        vertical-align: middle;\n",
       "    }\n",
       "\n",
       "    .dataframe tbody tr th {\n",
       "        vertical-align: top;\n",
       "    }\n",
       "\n",
       "    .dataframe thead th {\n",
       "        text-align: right;\n",
       "    }\n",
       "</style>\n",
       "<table border=\"1\" class=\"dataframe\">\n",
       "  <thead>\n",
       "    <tr style=\"text-align: right;\">\n",
       "      <th></th>\n",
       "      <th>Pregnancies</th>\n",
       "      <th>Glucose</th>\n",
       "      <th>BloodPressure</th>\n",
       "      <th>SkinThickness</th>\n",
       "      <th>Insulin</th>\n",
       "      <th>BMI</th>\n",
       "      <th>DiabetesPedigreeFunction</th>\n",
       "      <th>Age</th>\n",
       "      <th>Outcome</th>\n",
       "    </tr>\n",
       "  </thead>\n",
       "  <tbody>\n",
       "    <tr>\n",
       "      <th>0</th>\n",
       "      <td>6</td>\n",
       "      <td>148</td>\n",
       "      <td>72</td>\n",
       "      <td>35</td>\n",
       "      <td>0</td>\n",
       "      <td>33.6</td>\n",
       "      <td>0.627</td>\n",
       "      <td>50</td>\n",
       "      <td>1</td>\n",
       "    </tr>\n",
       "    <tr>\n",
       "      <th>1</th>\n",
       "      <td>1</td>\n",
       "      <td>85</td>\n",
       "      <td>66</td>\n",
       "      <td>29</td>\n",
       "      <td>0</td>\n",
       "      <td>26.6</td>\n",
       "      <td>0.351</td>\n",
       "      <td>31</td>\n",
       "      <td>0</td>\n",
       "    </tr>\n",
       "    <tr>\n",
       "      <th>2</th>\n",
       "      <td>8</td>\n",
       "      <td>183</td>\n",
       "      <td>64</td>\n",
       "      <td>0</td>\n",
       "      <td>0</td>\n",
       "      <td>23.3</td>\n",
       "      <td>0.672</td>\n",
       "      <td>32</td>\n",
       "      <td>1</td>\n",
       "    </tr>\n",
       "    <tr>\n",
       "      <th>3</th>\n",
       "      <td>1</td>\n",
       "      <td>89</td>\n",
       "      <td>66</td>\n",
       "      <td>23</td>\n",
       "      <td>94</td>\n",
       "      <td>28.1</td>\n",
       "      <td>0.167</td>\n",
       "      <td>21</td>\n",
       "      <td>0</td>\n",
       "    </tr>\n",
       "    <tr>\n",
       "      <th>4</th>\n",
       "      <td>0</td>\n",
       "      <td>137</td>\n",
       "      <td>40</td>\n",
       "      <td>35</td>\n",
       "      <td>168</td>\n",
       "      <td>43.1</td>\n",
       "      <td>2.288</td>\n",
       "      <td>33</td>\n",
       "      <td>1</td>\n",
       "    </tr>\n",
       "  </tbody>\n",
       "</table>\n",
       "</div>"
      ],
      "text/plain": [
       "   Pregnancies  Glucose  BloodPressure  SkinThickness  Insulin   BMI  \\\n",
       "0            6      148             72             35        0  33.6   \n",
       "1            1       85             66             29        0  26.6   \n",
       "2            8      183             64              0        0  23.3   \n",
       "3            1       89             66             23       94  28.1   \n",
       "4            0      137             40             35      168  43.1   \n",
       "\n",
       "   DiabetesPedigreeFunction  Age  Outcome  \n",
       "0                     0.627   50        1  \n",
       "1                     0.351   31        0  \n",
       "2                     0.672   32        1  \n",
       "3                     0.167   21        0  \n",
       "4                     2.288   33        1  "
      ]
     },
     "execution_count": 1,
     "metadata": {},
     "output_type": "execute_result"
    }
   ],
   "source": [
    "import numpy as np \n",
    "import pandas as pd\n",
    "import matplotlib.pyplot as plt\n",
    "from sklearn.model_selection import train_test_split,GridSearchCV\n",
    "from sklearn.metrics import accuracy_score\n",
    "df=pd.read_csv(\"diabetes.csv\")\n",
    "df.head()"
   ]
  },
  {
   "cell_type": "code",
   "execution_count": 2,
   "metadata": {},
   "outputs": [],
   "source": [
    "y=df[\"Outcome\"]\n",
    "X=df.drop([\"Outcome\"],axis=1)\n",
    "X_train,X_test,y_train,y_test=train_test_split(X,y,random_state=42,test_size=0.30)"
   ]
  },
  {
   "cell_type": "code",
   "execution_count": 4,
   "metadata": {},
   "outputs": [
    {
     "name": "stdout",
     "output_type": "stream",
     "text": [
      "Requirement already satisfied: lightgbm in c:\\users\\sevva\\anaconda3\\lib\\site-packages (3.3.3)\n",
      "Requirement already satisfied: wheel in c:\\users\\sevva\\anaconda3\\lib\\site-packages (from lightgbm) (0.37.1)\n",
      "Requirement already satisfied: numpy in c:\\users\\sevva\\anaconda3\\lib\\site-packages (from lightgbm) (1.21.5)\n",
      "Requirement already satisfied: scikit-learn!=0.22.0 in c:\\users\\sevva\\anaconda3\\lib\\site-packages (from lightgbm) (1.0.2)\n",
      "Requirement already satisfied: scipy in c:\\users\\sevva\\anaconda3\\lib\\site-packages (from lightgbm) (1.7.3)\n",
      "Requirement already satisfied: joblib>=0.11 in c:\\users\\sevva\\anaconda3\\lib\\site-packages (from scikit-learn!=0.22.0->lightgbm) (1.1.0)\n",
      "Requirement already satisfied: threadpoolctl>=2.0.0 in c:\\users\\sevva\\anaconda3\\lib\\site-packages (from scikit-learn!=0.22.0->lightgbm) (2.2.0)\n",
      "Note: you may need to restart the kernel to use updated packages.\n"
     ]
    }
   ],
   "source": [
    "%pip install lightgbm\n",
    "from lightgbm import LGBMClassifier"
   ]
  },
  {
   "cell_type": "markdown",
   "metadata": {},
   "source": [
    "### Model Tahmin "
   ]
  },
  {
   "cell_type": "code",
   "execution_count": 5,
   "metadata": {},
   "outputs": [],
   "source": [
    "lgbm_model=LGBMClassifier().fit(X_train,y_train)"
   ]
  },
  {
   "cell_type": "code",
   "execution_count": 6,
   "metadata": {},
   "outputs": [
    {
     "name": "stdout",
     "output_type": "stream",
     "text": [
      "\u001b[1;31mType:\u001b[0m           LGBMClassifier\n",
      "\u001b[1;31mString form:\u001b[0m    LGBMClassifier()\n",
      "\u001b[1;31mFile:\u001b[0m           c:\\users\\sevva\\anaconda3\\lib\\site-packages\\lightgbm\\sklearn.py\n",
      "\u001b[1;31mDocstring:\u001b[0m      LightGBM classifier.\n",
      "\u001b[1;31mInit docstring:\u001b[0m\n",
      "Construct a gradient boosting model.\n",
      "\n",
      "Parameters\n",
      "----------\n",
      "boosting_type : str, optional (default='gbdt')\n",
      "    'gbdt', traditional Gradient Boosting Decision Tree.\n",
      "    'dart', Dropouts meet Multiple Additive Regression Trees.\n",
      "    'goss', Gradient-based One-Side Sampling.\n",
      "    'rf', Random Forest.\n",
      "num_leaves : int, optional (default=31)\n",
      "    Maximum tree leaves for base learners.\n",
      "max_depth : int, optional (default=-1)\n",
      "    Maximum tree depth for base learners, <=0 means no limit.\n",
      "learning_rate : float, optional (default=0.1)\n",
      "    Boosting learning rate.\n",
      "    You can use ``callbacks`` parameter of ``fit`` method to shrink/adapt learning rate\n",
      "    in training using ``reset_parameter`` callback.\n",
      "    Note, that this will ignore the ``learning_rate`` argument in training.\n",
      "n_estimators : int, optional (default=100)\n",
      "    Number of boosted trees to fit.\n",
      "subsample_for_bin : int, optional (default=200000)\n",
      "    Number of samples for constructing bins.\n",
      "objective : str, callable or None, optional (default=None)\n",
      "    Specify the learning task and the corresponding learning objective or\n",
      "    a custom objective function to be used (see note below).\n",
      "    Default: 'regression' for LGBMRegressor, 'binary' or 'multiclass' for LGBMClassifier, 'lambdarank' for LGBMRanker.\n",
      "class_weight : dict, 'balanced' or None, optional (default=None)\n",
      "    Weights associated with classes in the form ``{class_label: weight}``.\n",
      "    Use this parameter only for multi-class classification task;\n",
      "    for binary classification task you may use ``is_unbalance`` or ``scale_pos_weight`` parameters.\n",
      "    Note, that the usage of all these parameters will result in poor estimates of the individual class probabilities.\n",
      "    You may want to consider performing probability calibration\n",
      "    (https://scikit-learn.org/stable/modules/calibration.html) of your model.\n",
      "    The 'balanced' mode uses the values of y to automatically adjust weights\n",
      "    inversely proportional to class frequencies in the input data as ``n_samples / (n_classes * np.bincount(y))``.\n",
      "    If None, all classes are supposed to have weight one.\n",
      "    Note, that these weights will be multiplied with ``sample_weight`` (passed through the ``fit`` method)\n",
      "    if ``sample_weight`` is specified.\n",
      "min_split_gain : float, optional (default=0.)\n",
      "    Minimum loss reduction required to make a further partition on a leaf node of the tree.\n",
      "min_child_weight : float, optional (default=1e-3)\n",
      "    Minimum sum of instance weight (hessian) needed in a child (leaf).\n",
      "min_child_samples : int, optional (default=20)\n",
      "    Minimum number of data needed in a child (leaf).\n",
      "subsample : float, optional (default=1.)\n",
      "    Subsample ratio of the training instance.\n",
      "subsample_freq : int, optional (default=0)\n",
      "    Frequency of subsample, <=0 means no enable.\n",
      "colsample_bytree : float, optional (default=1.)\n",
      "    Subsample ratio of columns when constructing each tree.\n",
      "reg_alpha : float, optional (default=0.)\n",
      "    L1 regularization term on weights.\n",
      "reg_lambda : float, optional (default=0.)\n",
      "    L2 regularization term on weights.\n",
      "random_state : int, RandomState object or None, optional (default=None)\n",
      "    Random number seed.\n",
      "    If int, this number is used to seed the C++ code.\n",
      "    If RandomState object (numpy), a random integer is picked based on its state to seed the C++ code.\n",
      "    If None, default seeds in C++ code are used.\n",
      "n_jobs : int, optional (default=-1)\n",
      "    Number of parallel threads.\n",
      "silent : bool, optional (default=True)\n",
      "    Whether to print messages while running boosting.\n",
      "importance_type : str, optional (default='split')\n",
      "    The type of feature importance to be filled into ``feature_importances_``.\n",
      "    If 'split', result contains numbers of times the feature is used in a model.\n",
      "    If 'gain', result contains total gains of splits which use the feature.\n",
      "**kwargs\n",
      "    Other parameters for the model.\n",
      "    Check http://lightgbm.readthedocs.io/en/latest/Parameters.html for more parameters.\n",
      "\n",
      "    .. warning::\n",
      "\n",
      "        \\*\\*kwargs is not supported in sklearn, it may cause unexpected issues.\n",
      "\n",
      "Note\n",
      "----\n",
      "A custom objective function can be provided for the ``objective`` parameter.\n",
      "In this case, it should have the signature\n",
      "``objective(y_true, y_pred) -> grad, hess`` or\n",
      "``objective(y_true, y_pred, group) -> grad, hess``:\n",
      "\n",
      "    y_true : array-like of shape = [n_samples]\n",
      "        The target values.\n",
      "    y_pred : array-like of shape = [n_samples] or shape = [n_samples * n_classes] (for multi-class task)\n",
      "        The predicted values.\n",
      "        Predicted values are returned before any transformation,\n",
      "        e.g. they are raw margin instead of probability of positive class for binary task.\n",
      "    group : array-like\n",
      "        Group/query data.\n",
      "        Only used in the learning-to-rank task.\n",
      "        sum(group) = n_samples.\n",
      "        For example, if you have a 100-document dataset with ``group = [10, 20, 40, 10, 10, 10]``, that means that you have 6 groups,\n",
      "        where the first 10 records are in the first group, records 11-30 are in the second group, records 31-70 are in the third group, etc.\n",
      "    grad : array-like of shape = [n_samples] or shape = [n_samples * n_classes] (for multi-class task)\n",
      "        The value of the first order derivative (gradient) of the loss\n",
      "        with respect to the elements of y_pred for each sample point.\n",
      "    hess : array-like of shape = [n_samples] or shape = [n_samples * n_classes] (for multi-class task)\n",
      "        The value of the second order derivative (Hessian) of the loss\n",
      "        with respect to the elements of y_pred for each sample point.\n",
      "\n",
      "For multi-class task, the y_pred is group by class_id first, then group by row_id.\n",
      "If you want to get i-th row y_pred in j-th class, the access way is y_pred[j * num_data + i]\n",
      "and you should group grad and hess in this way as well.\n"
     ]
    }
   ],
   "source": [
    "?lgbm_model"
   ]
  },
  {
   "cell_type": "code",
   "execution_count": 7,
   "metadata": {},
   "outputs": [
    {
     "data": {
      "text/plain": [
       "0.7229437229437229"
      ]
     },
     "execution_count": 7,
     "metadata": {},
     "output_type": "execute_result"
    }
   ],
   "source": [
    "y_pred=lgbm_model.predict(X_test)\n",
    "accuracy_score(y_test,y_pred)"
   ]
  },
  {
   "cell_type": "markdown",
   "metadata": {},
   "source": [
    "### Model Tuned"
   ]
  },
  {
   "cell_type": "code",
   "execution_count": 8,
   "metadata": {},
   "outputs": [],
   "source": [
    "lgbm=LGBMClassifier()"
   ]
  },
  {
   "cell_type": "code",
   "execution_count": 9,
   "metadata": {},
   "outputs": [],
   "source": [
    "lgbm_params={\"learning_rate=\":[0.1,0.01,0.01],\"n_estimators\":[200,500,1000],\"max_depth\":[2,3,5,8]}"
   ]
  },
  {
   "cell_type": "code",
   "execution_count": 10,
   "metadata": {},
   "outputs": [
    {
     "name": "stdout",
     "output_type": "stream",
     "text": [
      "Fitting 10 folds for each of 36 candidates, totalling 360 fits\n",
      "[LightGBM] [Warning] learning_rate is set=0.1, learning_rate=0.1 will be ignored. Current value: learning_rate=0.1\n"
     ]
    }
   ],
   "source": [
    "lgbm_cv_model=GridSearchCV(lgbm,lgbm_params,cv=10,n_jobs=-1,verbose=2).fit(X_train,y_train)"
   ]
  },
  {
   "cell_type": "code",
   "execution_count": 11,
   "metadata": {},
   "outputs": [
    {
     "data": {
      "text/plain": [
       "{'learning_rate=': 0.1, 'max_depth': 3, 'n_estimators': 200}"
      ]
     },
     "execution_count": 11,
     "metadata": {},
     "output_type": "execute_result"
    }
   ],
   "source": [
    "lgbm_cv_model.best_params_"
   ]
  },
  {
   "cell_type": "code",
   "execution_count": 16,
   "metadata": {},
   "outputs": [],
   "source": [
    "lgbm_tuned=LGBMClassifier(learning_rate=0.1,max_depth=3,n_estimators=200).fit(X_train,y_train)"
   ]
  },
  {
   "cell_type": "code",
   "execution_count": 17,
   "metadata": {},
   "outputs": [
    {
     "data": {
      "text/plain": [
       "0.7532467532467533"
      ]
     },
     "execution_count": 17,
     "metadata": {},
     "output_type": "execute_result"
    }
   ],
   "source": [
    "y_pred=lgbm_tuned.predict(X_test)\n",
    "accuracy_score(y_test,y_pred)"
   ]
  },
  {
   "cell_type": "code",
   "execution_count": 18,
   "metadata": {},
   "outputs": [
    {
     "data": {
      "image/png": "[encoded data removed]",
      "text/plain": [
       "<Figure size 432x288 with 1 Axes>"
      ]
     },
     "metadata": {
      "needs_background": "light"
     },
     "output_type": "display_data"
    }
   ],
   "source": [
    "feature_imp=pd.Series(lgbm_tuned.feature_importances_,index=X_train.columns).sort_values(ascending=False)\n",
    "\n",
    "import seaborn as sns\n",
    "sns.barplot(x=feature_imp,y=feature_imp.index)\n",
    "plt.xlabel(\"Değişken önem scorları\")\n",
    "plt.ylabel(\"değişkenler\")\n",
    "plt.title(\"Değişken öenm düzeyleri\")\n",
    "plt.show()"
   ]
  },
  {
   "cell_type": "code",
   "execution_count": null,
   "metadata": {},
   "outputs": [],
   "source": []
  }
 ],
 "metadata": {
  "kernelspec": {
   "display_name": "Python 3.9.12 ('base')",
   "language": "python",
   "name": "python3"
  },
  "language_info": {
   "codemirror_mode": {
    "name": "ipython",
    "version": 3
   },
   "file_extension": ".py",
   "mimetype": "text/x-python",
   "name": "python",
   "nbconvert_exporter": "python",
   "pygments_lexer": "ipython3",
   "version": "3.9.12"
  },
  "orig_nbformat": 4,
  "vscode": {
   "interpreter": {
    "hash": "ab13322db8ab0b4d60fe8835711aa7fa9b19de786ef0dcbcf97a89d8b1a09b1f"
   }
  }
 },
 "nbformat": 4,
 "nbformat_minor": 2
}
